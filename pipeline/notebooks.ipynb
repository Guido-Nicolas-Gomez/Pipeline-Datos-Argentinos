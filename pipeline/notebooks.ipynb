{
 "cells": [
  {
   "cell_type": "markdown",
   "metadata": {},
   "source": [
    "# Pipline para datos.gob.ar"
   ]
  },
  {
   "cell_type": "markdown",
   "metadata": {},
   "source": [
    "# Requerimientos funcionales 🔎\n",
    "Tu proyecto deberá cumplir con una serie de requerimientos funcionales que giran\n",
    "en torno a cuatro ejes centrales: los archivos fuente, el procesamiento de datos, la\n",
    "creación de tablas en la base de datos y la actualización de la base de datos.\n",
    "Veamos cada uno de ellos en detalle."
   ]
  },
  {
   "cell_type": "markdown",
   "metadata": {},
   "source": [
    "# Archivos fuente ✔\n",
    "Los archivos fuentes serán utilizados en tu proyecto para obtener de ellos todo lo\n",
    "necesario para popular la base de datos. El proyecto deberá:\n",
    "- Obtener los 3 archivos de fuente utilizando la librería requests y\n",
    "almacenarse en forma local (Ten en cuenta que las urls pueden cambiar en\n",
    "un futuro):  \n",
    "    - Datos Argentina - Museos\n",
    "    - Datos Argentina - Salas de Cine\n",
    "    - Datos Argentina - Bibliotecas Populares  \n",
    "- Organizar los archivos en rutas siguiendo la siguiente estructura:\n",
    "“categoría\\año-mes\\categoria-dia-mes-año.csv”\n",
    "    - Por ejemplo: “museos\\2021-noviembre\\museos-03-11-2021”\n",
    "    - Si el archivo existe debe reemplazarse. La fecha de la nomenclatura\n",
    "es la fecha de descarga."
   ]
  },
  {
   "cell_type": "markdown",
   "metadata": {},
   "source": [
    "## Importaciones"
   ]
  },
  {
   "cell_type": "code",
   "execution_count": 21,
   "metadata": {},
   "outputs": [],
   "source": [
    "# Modulos\n",
    "import datetime\n",
    "import locale\n",
    "import requests\n",
    "import pandas as pd\n",
    "import os"
   ]
  },
  {
   "cell_type": "markdown",
   "metadata": {},
   "source": [
    "## URLs"
   ]
  },
  {
   "cell_type": "code",
   "execution_count": 22,
   "metadata": {},
   "outputs": [],
   "source": [
    "# Constantes\n",
    "# urls\n",
    "URL_MUSEOS = 'https://datos.cultura.gob.ar/dataset/37305de4-3cce-4d4b-9d9a-fec3ca61d09f/resource/4207def0-2ff7-41d5-9095-d42ae8207a5d/download/museos_datosabiertos.csv'\n",
    "URL_CINES = 'https://datos.cultura.gob.ar/dataset/37305de4-3cce-4d4b-9d9a-fec3ca61d09f/resource/392ce1a8-ef11-4776-b280-6f1c7fae16ae/download/cine.csv'\n",
    "URL_BIBLIOTECAS = 'https://datos.cultura.gob.ar/dataset/37305de4-3cce-4d4b-9d9a-fec3ca61d09f/resource/01c6c048-dbeb-44e0-8efa-6944f73715d7/download/biblioteca_popular.csv'\n"
   ]
  },
  {
   "cell_type": "markdown",
   "metadata": {},
   "source": [
    "# Logs\n",
    "El programa debe crear logs oportunos sobre la ejecución del mismo con la librería\n",
    "Logging."
   ]
  },
  {
   "cell_type": "code",
   "execution_count": 23,
   "metadata": {},
   "outputs": [],
   "source": [
    "import logging\n",
    "\n",
    "# Paths\n",
    "mainpath = os.path.abspath(os.getcwd())\n",
    "fullpath = mainpath + \"/logging_info.log\"\n",
    "\n",
    "# Create and configure  a logger\n",
    "LOG_FORMAT = \"%(levelname)s %(asctime)s - %(message)s\"\n",
    "logging.basicConfig(filename = fullpath,\n",
    "                    level = logging.DEBUG,\n",
    "                    format = LOG_FORMAT,\n",
    "                    filemode = 'w')\n",
    "                   \n",
    "logger = logging.getLogger()\n"
   ]
  },
  {
   "cell_type": "markdown",
   "metadata": {},
   "source": [
    "## Escritura de archivo"
   ]
  },
  {
   "cell_type": "code",
   "execution_count": 24,
   "metadata": {},
   "outputs": [],
   "source": [
    "# Peticion y carga de los ficheros\n",
    "def requests_writing_reading(name, url):\n",
    "    # variables\n",
    "    #   time\n",
    "    locale.setlocale(locale.LC_ALL, 'es-ES')\n",
    "    dt = datetime.datetime.now()\n",
    "    current_month = dt.strftime('%Y-%B')\n",
    "    today = dt.strftime('%d-%m-%Y')\n",
    "    #   paths\n",
    "    main_path = os.path.abspath(os.getcwd())\n",
    "    file_dir = fr'{name}\\{current_month}'\n",
    "    file_name = f'/{name}-{today}.csv'\n",
    "    fullpath = os.path.join(main_path, file_dir + file_name)\n",
    "    \n",
    "    # making dir\n",
    "    os.makedirs(file_dir, exist_ok= True)\n",
    "\n",
    "    # requests\n",
    "    r = requests.get(url)\n",
    "\n",
    "    # Storage\n",
    "    with open(fullpath, 'w', encoding=\"latin-1\") as f:\n",
    "        f.write(r.text.replace('\\r',''))\n",
    "    \n",
    "    # Reading\n",
    "    return pd.read_csv(fullpath)\n"
   ]
  },
  {
   "cell_type": "code",
   "execution_count": 25,
   "metadata": {},
   "outputs": [],
   "source": [
    "# Dataframes\n",
    "df_museos = requests_writing_reading('museos', URL_MUSEOS)\n",
    "df_cines = requests_writing_reading('cines', URL_CINES)\n",
    "df_bibliotecas = requests_writing_reading('bibliotecas', URL_BIBLIOTECAS)"
   ]
  },
  {
   "cell_type": "code",
   "execution_count": 26,
   "metadata": {},
   "outputs": [
    {
     "data": {
      "text/plain": [
       "((1182, 24), (329, 26), (2017, 25))"
      ]
     },
     "execution_count": 26,
     "metadata": {},
     "output_type": "execute_result"
    }
   ],
   "source": [
    "# 🔍\n",
    "df_museos.shape, df_cines.shape, df_bibliotecas.shape"
   ]
  },
  {
   "cell_type": "markdown",
   "metadata": {},
   "source": [
    "# Procesamiento de datos ✔\n",
    "El procesamiento de datos permitirá a nuestro proyecto transformar los datos de los\n",
    "archivos fuente en la información que va a nutrir la base de datos. Para esto, el\n",
    "proyecto deberá:\n",
    "\n",
    "- Normalizar toda la información de Museos, Salas de Cine y Bibliotecas\n",
    "Populares, para crear una única tabla que contenga:\n",
    "    - cod_localidad\n",
    "    - id_provincia\n",
    "    - id_departamento\n",
    "    - categoría\n",
    "    - provincia\n",
    "    - localidad\n",
    "    - nombre\n",
    "    - domicilio\n",
    "    - código postal\n",
    "    - número de teléfono\n",
    "    - mail\n",
    "    - web\n",
    "- Procesar los datos conjuntos para poder generar una tabla con la siguiente\n",
    "información:\n",
    "    - Cantidad de registros totales por categoría\n",
    "    - Cantidad de registros totales por fuente\n",
    "    - Cantidad de registros por provincia y categoría\n",
    "- Procesar la información de cines para poder crear una tabla que contenga:\n",
    "    - Provincia\n",
    "    - Cantidad de pantallas\n",
    "    - Cantidad de butacas\n",
    "    - Cantidad de espacios INCAA"
   ]
  },
  {
   "cell_type": "markdown",
   "metadata": {},
   "source": [
    "## Limpieza de las columnas solicitadas"
   ]
  },
  {
   "cell_type": "code",
   "execution_count": 27,
   "metadata": {},
   "outputs": [],
   "source": [
    "# Para utilizar posteriormente\n",
    "df_cines_copy = df_cines.copy()"
   ]
  },
  {
   "cell_type": "code",
   "execution_count": 28,
   "metadata": {},
   "outputs": [],
   "source": [
    "# Unificando numero de telefono y codigo de area:\n",
    "def concat_float_and_str_columns(df, float_column, str_column):\n",
    "    \"\"\"Funcion que concatena dos columnas en un dataframe, una correspondiente a tipo Str y otra a Float\"\"\"\n",
    "    float_to_str = lambda x: str(x)[:-2]\n",
    "    concat_columns = df[float_column].agg(float_to_str) + ' ' + df[str_column]\n",
    "    return concat_columns.str.strip()\n",
    "\n",
    "# Unificando numero de telefono y codigo de area:\n",
    "df_museos.insert(13, 'telef.', concat_float_and_str_columns(df_museos, 'cod_area', 'telefono'))\n",
    "df_cines.insert(13, 'telef.', concat_float_and_str_columns(df_cines, 'cod_area', 'Teléfono'))\n",
    "df_bibliotecas.insert(13, 'telef.', concat_float_and_str_columns(df_bibliotecas, 'Cod_tel', 'Teléfono'))\n",
    "\n",
    "# Drop columns\n",
    "columns_to_drop_museos = ['cod_area','telefono','Observaciones', 'subcategoria','piso','Latitud','Longitud', 'TipoLatitudLongitud','Info_adicional']\n",
    "columns_to_drop_cines = ['cod_area','Teléfono','Observaciones', 'Departamento','Piso','Información adicional','Latitud','Longitud','TipoLatitudLongitud']\n",
    "columns_to_drop_bibliotecas = ['Cod_tel','Teléfono','Observacion', 'Subcategoria','Departamento','Piso','Información adicional','Latitud','Longitud', 'TipoLatitudLongitud']\n",
    "\n",
    "# Eliminando las columnas innecesarías\n",
    "df_museos = df_museos.drop(columns_to_drop_museos, axis=1)\n",
    "df_cines = df_cines.drop(columns_to_drop_cines, axis=1)\n",
    "df_bibliotecas = df_bibliotecas.drop(columns_to_drop_bibliotecas, axis=1)\n"
   ]
  },
  {
   "cell_type": "markdown",
   "metadata": {},
   "source": [
    "## Chequeo de los datos"
   ]
  },
  {
   "cell_type": "code",
   "execution_count": 29,
   "metadata": {},
   "outputs": [
    {
     "name": "stdout",
     "output_type": "stream",
     "text": [
      "0 Cod_Loc Cod_Loc Cod_Loc\n",
      "1 IdProvincia IdProvincia IdProvincia\n",
      "2 IdDepartamento IdDepartamento IdDepartamento\n",
      "3 categoria Categoría Categoría\n",
      "4 provincia Provincia Provincia\n",
      "5 localidad Localidad Localidad\n",
      "6 nombre Nombre Nombre\n",
      "7 direccion Dirección Domicilio\n",
      "8 CP CP CP\n",
      "9 telef. telef. telef.\n",
      "10 Mail Mail Mail\n",
      "11 Web Web Web\n",
      "12 fuente Fuente Fuente\n"
     ]
    }
   ],
   "source": [
    "# Chequeo de que los campos coincidan en posicion\n",
    "# 🔍\n",
    "for i in range(13):\n",
    "    print(i,df_museos.columns[i], df_cines.columns[i], df_bibliotecas.columns[i])"
   ]
  },
  {
   "cell_type": "markdown",
   "metadata": {},
   "source": [
    "## Unificacion de los datasets"
   ]
  },
  {
   "cell_type": "code",
   "execution_count": 30,
   "metadata": {},
   "outputs": [],
   "source": [
    "# Columnas necesarias\n",
    "columns = ['cod_localidad',\n",
    "          'id_provincia',\n",
    "          'id_departamento',\n",
    "          'categoria',\n",
    "          'provincia',\n",
    "          'localidad',\n",
    "          'nombre',\n",
    "          'domicilio',\n",
    "          'codigo_postal',\n",
    "          'telefono',\n",
    "          'mail',\n",
    "          'web',\n",
    "          'fuente',]\n",
    "\n",
    "# Concatenamiento en un solo dataset\n",
    "df_main = pd.DataFrame()\n",
    "for i, v in enumerate(columns):\n",
    "    df_main[v] = pd.concat([df_museos.iloc[:,i], df_cines.iloc[:,i], df_bibliotecas.iloc[:,i]])"
   ]
  },
  {
   "cell_type": "code",
   "execution_count": 31,
   "metadata": {},
   "outputs": [
    {
     "data": {
      "text/plain": [
       "(3528, 13)"
      ]
     },
     "execution_count": 31,
     "metadata": {},
     "output_type": "execute_result"
    }
   ],
   "source": [
    "# 🔍\n",
    "df_main.shape"
   ]
  },
  {
   "cell_type": "markdown",
   "metadata": {},
   "source": [
    "## Generacion de los datasets agrupados"
   ]
  },
  {
   "cell_type": "code",
   "execution_count": 32,
   "metadata": {},
   "outputs": [],
   "source": [
    "# Datasets agrupados\n",
    "df_count_categoria = df_main.groupby('categoria').count()['cod_localidad']\n",
    "df_count_fuente = df_main.groupby('fuente').count()['cod_localidad']\n",
    "df_count_provincia_categoria = df_main.groupby(['provincia','categoria']).count()['cod_localidad']"
   ]
  },
  {
   "cell_type": "code",
   "execution_count": 33,
   "metadata": {},
   "outputs": [
    {
     "name": "stdout",
     "output_type": "stream",
     "text": [
      "categoria\n",
      "Bibliotecas Populares                 2017\n",
      "Espacios de Exhibición Patrimonial    1182\n",
      "Salas de cine                          329\n",
      "Name: cod_localidad, dtype: int64 \n",
      "---------------------------------------------\n",
      " fuente\n",
      "CNMLH - Enlace SInCA                                                      1\n",
      "CNMLH - Ente Cultural de Tucumán                                          1\n",
      "CONABIP                                                                2010\n",
      "DNPyM                                                                  1048\n",
      "Dirección Provincial de Patrimonio Cultural - Enlace SInCA                1\n",
      "Dirección de Cultura de Villa Allende                                     2\n",
      "Dirección de Cultura y de Educación de la Municipalidad de Unquillo       1\n",
      "Gob. Pcia.                                                                1\n",
      "Gobierno de la Provincia                                                 14\n",
      "Gobierno de la Provincia de Chubut / SInCA 2013                           3\n",
      "Gobierno de la Provincia de Jujuy                                         4\n",
      "Gobierno de la Provincia de La Pampa                                      1\n",
      "Gobierno de la Provincia de La Rioja                                      1\n",
      "Gobierno de la Provincia de Mendoza                                       4\n",
      "Gobierno de la Provincia de Neuquén                                       1\n",
      "Gobierno de la Provincia de Salta                                         1\n",
      "Gobierno de la Provincia de San Juan                                      3\n",
      "Gobierno de la provincia                                                  1\n",
      "INCAA / SInCA                                                           329\n",
      "Municipalidad de Puerto Madryn                                            2\n",
      "Municipalidad de Río Gallegos - Red de Ciudades Creativas                 4\n",
      "Municipalidad de Santa Fe - Red de Ciudades Creativas                    37\n",
      "RCC                                                                      10\n",
      "RCC- Córdoba                                                             31\n",
      "Red de Espacios Culturales Vicente López                                  4\n",
      "SInCA                                                                     1\n",
      "Secretaria de Cultura Provincial                                          6\n",
      "Secretaria de Cultura del Municipio de Esteban Echeverría                 1\n",
      "UNLA                                                                      1\n",
      "Área Gestión Cultural de la Municipalidad de Colonia Caroya               4\n",
      "Name: cod_localidad, dtype: int64 \n",
      "---------------------------------------------\n",
      " provincia                                              categoria                         \n",
      "Buenos Aires                                           Bibliotecas Populares                 543\n",
      "                                                       Espacios de Exhibición Patrimonial    152\n",
      "                                                       Salas de cine                         106\n",
      "Catamarca                                              Bibliotecas Populares                  38\n",
      "                                                       Espacios de Exhibición Patrimonial     32\n",
      "                                                                                            ... \n",
      "Tierra del Fuego                                       Salas de cine                           3\n",
      "Tierra del Fuego, Antártida e Islas del Atlántico Sur  Espacios de Exhibición Patrimonial     14\n",
      "Tucumán                                                Bibliotecas Populares                  37\n",
      "                                                       Espacios de Exhibición Patrimonial     26\n",
      "                                                       Salas de cine                           8\n",
      "Name: cod_localidad, Length: 73, dtype: int64\n"
     ]
    }
   ],
   "source": [
    "# 🔍\n",
    "print(df_count_categoria,\n",
    "      \"\\n---------------------------------------------\\n\",\n",
    "      df_count_fuente,\n",
    "      \"\\n---------------------------------------------\\n\",\n",
    "      df_count_provincia_categoria)"
   ]
  },
  {
   "cell_type": "markdown",
   "metadata": {},
   "source": [
    "## Tablas solicitadas"
   ]
  },
  {
   "cell_type": "markdown",
   "metadata": {},
   "source": [
    "### ___Tabla 1___\n",
    "- Normalizar toda la información de Museos, Salas de Cine y Bibliotecas\n",
    "Populares, para crear una única tabla que contenga:\n",
    "    - cod_localidad\n",
    "    - id_provincia\n",
    "    - id_departamento\n",
    "    - categoría\n",
    "    - provincia\n",
    "    - localidad\n",
    "    - nombre\n",
    "    - domicilio\n",
    "    - código postal\n",
    "    - número de teléfono\n",
    "    - mail\n",
    "    - web"
   ]
  },
  {
   "cell_type": "code",
   "execution_count": 34,
   "metadata": {},
   "outputs": [],
   "source": [
    "# Tabla solo con los campos especificados, (se excluje 'fuente')\n",
    "df_info_1 = df_main.iloc[ : , :-1]"
   ]
  },
  {
   "cell_type": "code",
   "execution_count": 35,
   "metadata": {},
   "outputs": [
    {
     "data": {
      "text/plain": [
       "(3528, 12)"
      ]
     },
     "execution_count": 35,
     "metadata": {},
     "output_type": "execute_result"
    }
   ],
   "source": [
    "# 🔍\n",
    "df_info_1.shape"
   ]
  },
  {
   "cell_type": "markdown",
   "metadata": {},
   "source": [
    "### ___Tabla 2___\n",
    "\n",
    "Procesar los datos conjuntos para poder generar una tabla con la siguiente\n",
    "información:\n",
    "- Cantidad de registros totales por categoría\n",
    "- Cantidad de registros totales por fuente\n",
    "- Cantidad de registros por provincia y categoría"
   ]
  },
  {
   "cell_type": "code",
   "execution_count": 36,
   "metadata": {},
   "outputs": [],
   "source": [
    "# Campos requeridos de la tabla base\n",
    "df_info_2 = df_main[['provincia', 'categoria', 'fuente']]\n",
    "\n",
    "# Datos agrupados que seran agragados a la tabla\n",
    "data_to_agregate = [(df_count_categoria, 'categoria', 'registros_categoria'),\n",
    "                    (df_count_fuente, 'fuente', 'registros_fuente'),\n",
    "                    (df_count_provincia_categoria, ['provincia', 'categoria'], 'registros_prov_cat'),]\n",
    "\n",
    "# Agregacion de la informacion\n",
    "for data in data_to_agregate:\n",
    "    df_info_2 = pd.merge(left= df_info_2, right= data[0], how= 'left', on= data[1])\n",
    "    df_info_2 = df_info_2.rename(columns= {'cod_localidad': data[2]})\n"
   ]
  },
  {
   "cell_type": "code",
   "execution_count": 37,
   "metadata": {},
   "outputs": [
    {
     "data": {
      "text/html": [
       "<div>\n",
       "<style scoped>\n",
       "    .dataframe tbody tr th:only-of-type {\n",
       "        vertical-align: middle;\n",
       "    }\n",
       "\n",
       "    .dataframe tbody tr th {\n",
       "        vertical-align: top;\n",
       "    }\n",
       "\n",
       "    .dataframe thead th {\n",
       "        text-align: right;\n",
       "    }\n",
       "</style>\n",
       "<table border=\"1\" class=\"dataframe\">\n",
       "  <thead>\n",
       "    <tr style=\"text-align: right;\">\n",
       "      <th></th>\n",
       "      <th>provincia</th>\n",
       "      <th>categoria</th>\n",
       "      <th>fuente</th>\n",
       "      <th>registros_categoria</th>\n",
       "      <th>registros_fuente</th>\n",
       "      <th>registros_prov_cat</th>\n",
       "    </tr>\n",
       "  </thead>\n",
       "  <tbody>\n",
       "    <tr>\n",
       "      <th>0</th>\n",
       "      <td>Buenos Aires</td>\n",
       "      <td>Espacios de Exhibición Patrimonial</td>\n",
       "      <td>DNPyM</td>\n",
       "      <td>1182</td>\n",
       "      <td>1048</td>\n",
       "      <td>152</td>\n",
       "    </tr>\n",
       "    <tr>\n",
       "      <th>40</th>\n",
       "      <td>Buenos Aires</td>\n",
       "      <td>Espacios de Exhibición Patrimonial</td>\n",
       "      <td>DNPyM</td>\n",
       "      <td>1182</td>\n",
       "      <td>1048</td>\n",
       "      <td>152</td>\n",
       "    </tr>\n",
       "    <tr>\n",
       "      <th>170</th>\n",
       "      <td>Catamarca</td>\n",
       "      <td>Espacios de Exhibición Patrimonial</td>\n",
       "      <td>DNPyM</td>\n",
       "      <td>1182</td>\n",
       "      <td>1048</td>\n",
       "      <td>32</td>\n",
       "    </tr>\n",
       "    <tr>\n",
       "      <th>580</th>\n",
       "      <td>Entre Ríos</td>\n",
       "      <td>Espacios de Exhibición Patrimonial</td>\n",
       "      <td>DNPyM</td>\n",
       "      <td>1182</td>\n",
       "      <td>1048</td>\n",
       "      <td>57</td>\n",
       "    </tr>\n",
       "    <tr>\n",
       "      <th>1560</th>\n",
       "      <td>Buenos Aires</td>\n",
       "      <td>Bibliotecas Populares</td>\n",
       "      <td>CONABIP</td>\n",
       "      <td>2017</td>\n",
       "      <td>2010</td>\n",
       "      <td>543</td>\n",
       "    </tr>\n",
       "  </tbody>\n",
       "</table>\n",
       "</div>"
      ],
      "text/plain": [
       "         provincia                           categoria   fuente  \\\n",
       "0     Buenos Aires  Espacios de Exhibición Patrimonial    DNPyM   \n",
       "40    Buenos Aires  Espacios de Exhibición Patrimonial    DNPyM   \n",
       "170      Catamarca  Espacios de Exhibición Patrimonial    DNPyM   \n",
       "580     Entre Ríos  Espacios de Exhibición Patrimonial    DNPyM   \n",
       "1560  Buenos Aires               Bibliotecas Populares  CONABIP   \n",
       "\n",
       "      registros_categoria  registros_fuente  registros_prov_cat  \n",
       "0                    1182              1048                 152  \n",
       "40                   1182              1048                 152  \n",
       "170                  1182              1048                  32  \n",
       "580                  1182              1048                  57  \n",
       "1560                 2017              2010                 543  "
      ]
     },
     "execution_count": 37,
     "metadata": {},
     "output_type": "execute_result"
    }
   ],
   "source": [
    "# 🔍\n",
    "df_info_2.iloc[[0,40,170,580,1560]]"
   ]
  },
  {
   "cell_type": "markdown",
   "metadata": {},
   "source": [
    "### ___Tabla 3___\n",
    "Procesar la información de cines para poder crear una tabla que contenga:\n",
    "- Provincia\n",
    "- Cantidad de pantallas\n",
    "- Cantidad de butacas\n",
    "- Cantidad de espacios INCAA"
   ]
  },
  {
   "cell_type": "code",
   "execution_count": 38,
   "metadata": {},
   "outputs": [],
   "source": [
    "# Nueva lectura de cines\n",
    "df_cines = df_cines_copy\n",
    "\n",
    "# Convertir en valores numericos el recuento espacio_INCAA\n",
    "df_cines['espacio_INCAA'] = df_cines['espacio_INCAA'].transform(lambda x: 1 if x == 'si' or x == 'SI' else 0)\n",
    "\n",
    "# Creando la tabla agrupada por provincia\n",
    "columns = ['Provincia', 'Pantallas', 'Butacas', 'espacio_INCAA']\n",
    "df_info_3 = df_cines[columns].groupby('Provincia').sum()\n",
    "df_info_3 = df_info_3.rename(columns= {'espacio_INCAA':'espacios_INCAA'})\n",
    "df_info_3['Provincia'] = df_info_3.index"
   ]
  },
  {
   "cell_type": "code",
   "execution_count": 39,
   "metadata": {},
   "outputs": [
    {
     "data": {
      "text/html": [
       "<div>\n",
       "<style scoped>\n",
       "    .dataframe tbody tr th:only-of-type {\n",
       "        vertical-align: middle;\n",
       "    }\n",
       "\n",
       "    .dataframe tbody tr th {\n",
       "        vertical-align: top;\n",
       "    }\n",
       "\n",
       "    .dataframe thead th {\n",
       "        text-align: right;\n",
       "    }\n",
       "</style>\n",
       "<table border=\"1\" class=\"dataframe\">\n",
       "  <thead>\n",
       "    <tr style=\"text-align: right;\">\n",
       "      <th></th>\n",
       "      <th>Pantallas</th>\n",
       "      <th>Butacas</th>\n",
       "      <th>espacios_INCAA</th>\n",
       "      <th>Provincia</th>\n",
       "    </tr>\n",
       "    <tr>\n",
       "      <th>Provincia</th>\n",
       "      <th></th>\n",
       "      <th></th>\n",
       "      <th></th>\n",
       "      <th></th>\n",
       "    </tr>\n",
       "  </thead>\n",
       "  <tbody>\n",
       "    <tr>\n",
       "      <th>Buenos Aires</th>\n",
       "      <td>358</td>\n",
       "      <td>93112</td>\n",
       "      <td>20</td>\n",
       "      <td>Buenos Aires</td>\n",
       "    </tr>\n",
       "    <tr>\n",
       "      <th>Catamarca</th>\n",
       "      <td>12</td>\n",
       "      <td>3200</td>\n",
       "      <td>1</td>\n",
       "      <td>Catamarca</td>\n",
       "    </tr>\n",
       "    <tr>\n",
       "      <th>Chaco</th>\n",
       "      <td>14</td>\n",
       "      <td>2469</td>\n",
       "      <td>1</td>\n",
       "      <td>Chaco</td>\n",
       "    </tr>\n",
       "    <tr>\n",
       "      <th>Chubut</th>\n",
       "      <td>10</td>\n",
       "      <td>2682</td>\n",
       "      <td>4</td>\n",
       "      <td>Chubut</td>\n",
       "    </tr>\n",
       "    <tr>\n",
       "      <th>Ciudad Autónoma de Buenos Aires</th>\n",
       "      <td>153</td>\n",
       "      <td>31386</td>\n",
       "      <td>3</td>\n",
       "      <td>Ciudad Autónoma de Buenos Aires</td>\n",
       "    </tr>\n",
       "  </tbody>\n",
       "</table>\n",
       "</div>"
      ],
      "text/plain": [
       "                                 Pantallas  Butacas  espacios_INCAA  \\\n",
       "Provincia                                                             \n",
       "Buenos Aires                           358    93112              20   \n",
       "Catamarca                               12     3200               1   \n",
       "Chaco                                   14     2469               1   \n",
       "Chubut                                  10     2682               4   \n",
       "Ciudad Autónoma de Buenos Aires        153    31386               3   \n",
       "\n",
       "                                                       Provincia  \n",
       "Provincia                                                         \n",
       "Buenos Aires                                        Buenos Aires  \n",
       "Catamarca                                              Catamarca  \n",
       "Chaco                                                      Chaco  \n",
       "Chubut                                                    Chubut  \n",
       "Ciudad Autónoma de Buenos Aires  Ciudad Autónoma de Buenos Aires  "
      ]
     },
     "execution_count": 39,
     "metadata": {},
     "output_type": "execute_result"
    }
   ],
   "source": [
    "# 🔍\n",
    "df_info_3.head()"
   ]
  },
  {
   "cell_type": "markdown",
   "metadata": {},
   "source": [
    "# Creación de tablas / bbdd ✔\n",
    "\n",
    "Para disponibilizar la información obtenida y procesada en los pasos previos, tu\n",
    "proyecto deberá tener una base de datos que cumpla con los siguientes requisitos:\n",
    "- La base de datos debe ser PostgreSQL/MySql\n",
    "- Se deben crear los scripts .sql para la creación de las tablas.\n",
    "- Se debe crear un script .py que ejecute los scripts .sql para facilitar el deploy.\n",
    "- Los datos de la conexión deben poder configurarse fácilmente para facilitar\n",
    "el deploy en un nuevo ambiente de ser necesario."
   ]
  },
  {
   "cell_type": "markdown",
   "metadata": {},
   "source": [
    "## Variables de entorno"
   ]
  },
  {
   "cell_type": "code",
   "execution_count": 40,
   "metadata": {},
   "outputs": [],
   "source": [
    "from sqlalchemy import create_engine\n",
    "\n",
    "# Variables de conexion\n",
    "MOTOR = 'mysql'\n",
    "USER = 'root'\n",
    "PASSWORD = '1234'\n",
    "HOST = '127.0.0.1'\n",
    "PORT = '3306'\n",
    "DATA_BASE = 'bbdd'"
   ]
  },
  {
   "cell_type": "markdown",
   "metadata": {},
   "source": [
    "## Creacion de la base de datos"
   ]
  },
  {
   "cell_type": "code",
   "execution_count": 41,
   "metadata": {},
   "outputs": [],
   "source": [
    "# Connection string for the engine\n",
    "CONNECTION_STRING = MOTOR + '://' + USER + ':' + PASSWORD + '@' + HOST + ':' + PORT\n",
    "# creacion del motor\n",
    "engine = create_engine(CONNECTION_STRING)#, echo= True)\n",
    "\n",
    "# Creacion de la base de datos y las tablas\n",
    "with engine.connect() as con:\n",
    "    with open('bbdd.sql', 'r') as f:\n",
    "        con.execute(f.read())"
   ]
  },
  {
   "cell_type": "markdown",
   "metadata": {},
   "source": [
    "# Actualización de la bbdd ✔\n",
    "Luego de normalizar la información y generar las demás tablas, las mismas se\n",
    "deben actualizar en la base de datos. Para eso, es importante tener en cuenta que:\n",
    "- Todos los registros existentes deben ser reemplazados por la nueva\n",
    "información.\n",
    "- Dentro de cada tabla debe indicarse en una columna adicional la fecha de\n",
    "carga.\n",
    "- Los registros para los cuales la fuente no brinda información deben cargarse\n",
    "como nulos."
   ]
  },
  {
   "cell_type": "code",
   "execution_count": 42,
   "metadata": {},
   "outputs": [],
   "source": [
    "# Se agrega la base de datos al engine\n",
    "engine = create_engine(CONNECTION_STRING + '/' + DATA_BASE)\n",
    "\n",
    "# Actualizado valores en la base de datos:\n",
    "for i, df in enumerate([df_info_1, df_info_2, df_info_3]):\n",
    "    # Borrado de los datos previos\n",
    "    with engine.connect() as con:\n",
    "        con.execute(f'DELETE FROM info_{i + 1}')\n",
    "    # Carga de los nuevos datos\n",
    "    df.to_sql(f'info_{i + 1}',con = engine, index = False, if_exists = 'append', method=  'multi')"
   ]
  },
  {
   "cell_type": "markdown",
   "metadata": {},
   "source": [
    "# Requerimientos técnicos 🔧\n",
    "Tu aplicación deberá cumplir con una serie de requerimientos técnicos que giran en\n",
    "torno a 7 ejes centrales. Veamos cada uno de ellos en detalle."
   ]
  },
  {
   "cell_type": "markdown",
   "metadata": {},
   "source": [
    "# Deploy ✔\n",
    "El proyecto debe poder deployarse en forma sencilla siguiendo un readme, que al\n",
    "menos contenga las instrucciones para:\n",
    "- Utilizarse creando un entorno virtual (venv)\n",
    "- Instalar las dependencias necesarias con pip.\n",
    "- Configurar la conexión a la base de datos."
   ]
  },
  {
   "cell_type": "markdown",
   "metadata": {},
   "source": [
    "# Configuración ✔\n",
    "Las configuraciones necesarias para que el proyecto se ejecute deben poder\n",
    "configurarse desde un archivo. env, .ini o similar con la librería Python-decouple."
   ]
  }
 ],
 "metadata": {
  "interpreter": {
   "hash": "89e0abca33cf4a51fed40e84035a9d07b9b47798c9ddd5755346d755ba15d037"
  },
  "kernelspec": {
   "display_name": "Python 3.10.2 64-bit",
   "language": "python",
   "name": "python3"
  },
  "language_info": {
   "codemirror_mode": {
    "name": "ipython",
    "version": 3
   },
   "file_extension": ".py",
   "mimetype": "text/x-python",
   "name": "python",
   "nbconvert_exporter": "python",
   "pygments_lexer": "ipython3",
   "version": "3.10.2"
  },
  "orig_nbformat": 4
 },
 "nbformat": 4,
 "nbformat_minor": 2
}
